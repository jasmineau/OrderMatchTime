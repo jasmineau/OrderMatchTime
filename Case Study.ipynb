{
 "cells": [
  {
   "cell_type": "code",
   "execution_count": 38,
   "id": "161f8dc2",
   "metadata": {},
   "outputs": [],
   "source": [
    "# import libraries\n",
    "import math\n",
    "import pandas as pd\n",
    "import numpy as np\n",
    "import matplotlib.pyplot as plt\n",
    "import seaborn as sns\n",
    "import datetime\n",
    "%matplotlib inline"
   ]
  },
  {
   "cell_type": "markdown",
   "id": "3df327fa",
   "metadata": {},
   "source": [
    "# Part I"
   ]
  },
  {
   "cell_type": "markdown",
   "id": "79b1fed4",
   "metadata": {},
   "source": [
    "Logic of the sample system: A record is created in van-order when user places an order. Each order starts at order_subset A, and each order can be accepted by multiple drivers. There will be a new record in the vaninterest table when a driver accepts an order. After accepting order, the driver has the option to reject an order, which will go back to the pool and allow other drivers to match this order again."
   ]
  },
  {
   "cell_type": "markdown",
   "id": "a89d5b3d",
   "metadata": {},
   "source": [
    "a) For hours with orders, how many orders are there each hour based on order time?"
   ]
  },
  {
   "cell_type": "markdown",
   "id": "5b8836ca",
   "metadata": {},
   "source": [
    "b) What is the percentage of money spent for each of the following group of clients?\n",
    "- Clients who completed 1 order\n",
    "- Clients who completed more than 1 order"
   ]
  },
  {
   "cell_type": "markdown",
   "id": "8d395d75",
   "metadata": {},
   "source": [
    "c) List of unique Client ID who completed at least one order, also show each client's total money spent, and the total order(s) completed. Order the list by total money spent (descending), then by total order(s) completed (descending)\n"
   ]
  },
  {
   "cell_type": "markdown",
   "id": "f9c60558",
   "metadata": {},
   "source": [
    "d) List of all drivers who took order(s) (regardless of whether they eventually complete the order), also show each driver's total income and total order(s) completed. Order the list by total income (descending), then by total order(s) completed"
   ]
  },
  {
   "cell_type": "code",
   "execution_count": null,
   "id": "e50a3c6a",
   "metadata": {},
   "outputs": [],
   "source": []
  },
  {
   "cell_type": "markdown",
   "id": "b7d6788b",
   "metadata": {},
   "source": [
    "e) List of driver ID who took orders, but never complete an order?"
   ]
  },
  {
   "cell_type": "code",
   "execution_count": null,
   "id": "c83cf599",
   "metadata": {},
   "outputs": [],
   "source": []
  },
  {
   "cell_type": "code",
   "execution_count": null,
   "id": "9b4f09f5",
   "metadata": {},
   "outputs": [],
   "source": []
  },
  {
   "cell_type": "code",
   "execution_count": null,
   "id": "79fb15c2",
   "metadata": {},
   "outputs": [],
   "source": []
  },
  {
   "cell_type": "code",
   "execution_count": null,
   "id": "59f6021b",
   "metadata": {},
   "outputs": [],
   "source": []
  },
  {
   "cell_type": "markdown",
   "id": "7119c99d",
   "metadata": {},
   "source": [
    "***"
   ]
  },
  {
   "cell_type": "markdown",
   "id": "02559960",
   "metadata": {},
   "source": [
    "# Part II"
   ]
  },
  {
   "cell_type": "markdown",
   "id": "bf6f381b",
   "metadata": {},
   "source": [
    "We would like to test the impact of a change introduced at ‘2017-03-30 12:00:00 AM’ on our Order Allocation system. The objective of the change is to improve order Match Time, which is the duration since the time an order was created to the time the order was accepted by a driver. \n",
    "\n",
    "- What is the resulting impact from this change?\n",
    "- Any additional insights or observations you think are worth noting?\n",
    "- Any observations regarding the testing process or environment? How would you improve or redesign this experiment?\n",
    "\n"
   ]
  },
  {
   "cell_type": "markdown",
   "id": "680e7a88",
   "metadata": {},
   "source": [
    "## Explore the data"
   ]
  },
  {
   "cell_type": "code",
   "execution_count": 2,
   "id": "5f5b530c",
   "metadata": {},
   "outputs": [],
   "source": [
    "# read csv\n",
    "df = pd.read_csv('response_data.csv')"
   ]
  },
  {
   "cell_type": "code",
   "execution_count": 3,
   "id": "1506ab82",
   "metadata": {
    "scrolled": true
   },
   "outputs": [
    {
     "data": {
      "text/html": [
       "<div>\n",
       "<style scoped>\n",
       "    .dataframe tbody tr th:only-of-type {\n",
       "        vertical-align: middle;\n",
       "    }\n",
       "\n",
       "    .dataframe tbody tr th {\n",
       "        vertical-align: top;\n",
       "    }\n",
       "\n",
       "    .dataframe thead th {\n",
       "        text-align: right;\n",
       "    }\n",
       "</style>\n",
       "<table border=\"1\" class=\"dataframe\">\n",
       "  <thead>\n",
       "    <tr style=\"text-align: right;\">\n",
       "      <th></th>\n",
       "      <th>Driver Response Timestamp</th>\n",
       "      <th>Order Create Timestamp</th>\n",
       "      <th>Order Id</th>\n",
       "    </tr>\n",
       "  </thead>\n",
       "  <tbody>\n",
       "    <tr>\n",
       "      <th>0</th>\n",
       "      <td>3/24/17 22:58:31</td>\n",
       "      <td>3/24/17 22:57:38</td>\n",
       "      <td>1</td>\n",
       "    </tr>\n",
       "    <tr>\n",
       "      <th>1</th>\n",
       "      <td>3/25/17 1:04:53</td>\n",
       "      <td>3/25/17 1:04:53</td>\n",
       "      <td>2</td>\n",
       "    </tr>\n",
       "    <tr>\n",
       "      <th>2</th>\n",
       "      <td>3/25/17 1:06:16</td>\n",
       "      <td>3/25/17 1:06:16</td>\n",
       "      <td>3</td>\n",
       "    </tr>\n",
       "    <tr>\n",
       "      <th>3</th>\n",
       "      <td>3/25/17 1:08:40</td>\n",
       "      <td>3/25/17 1:07:03</td>\n",
       "      <td>4</td>\n",
       "    </tr>\n",
       "    <tr>\n",
       "      <th>4</th>\n",
       "      <td>3/25/17 2:34:18</td>\n",
       "      <td>3/25/17 2:34:08</td>\n",
       "      <td>5</td>\n",
       "    </tr>\n",
       "  </tbody>\n",
       "</table>\n",
       "</div>"
      ],
      "text/plain": [
       "  Driver Response Timestamp Order Create Timestamp  Order Id\n",
       "0          3/24/17 22:58:31       3/24/17 22:57:38         1\n",
       "1           3/25/17 1:04:53        3/25/17 1:04:53         2\n",
       "2           3/25/17 1:06:16        3/25/17 1:06:16         3\n",
       "3           3/25/17 1:08:40        3/25/17 1:07:03         4\n",
       "4           3/25/17 2:34:18        3/25/17 2:34:08         5"
      ]
     },
     "execution_count": 3,
     "metadata": {},
     "output_type": "execute_result"
    }
   ],
   "source": [
    "df.head()"
   ]
  },
  {
   "cell_type": "code",
   "execution_count": 4,
   "id": "ecb41428",
   "metadata": {},
   "outputs": [
    {
     "name": "stdout",
     "output_type": "stream",
     "text": [
      "<class 'pandas.core.frame.DataFrame'>\n",
      "RangeIndex: 5000 entries, 0 to 4999\n",
      "Data columns (total 3 columns):\n",
      " #   Column                     Non-Null Count  Dtype \n",
      "---  ------                     --------------  ----- \n",
      " 0   Driver Response Timestamp  5000 non-null   object\n",
      " 1   Order Create Timestamp     5000 non-null   object\n",
      " 2   Order Id                   5000 non-null   int64 \n",
      "dtypes: int64(1), object(2)\n",
      "memory usage: 117.3+ KB\n"
     ]
    }
   ],
   "source": [
    "df.info()"
   ]
  },
  {
   "cell_type": "code",
   "execution_count": 5,
   "id": "9294c253",
   "metadata": {},
   "outputs": [],
   "source": [
    "# create column for the time difference between order create and driver response\n",
    "df['Driver Response Timestamp'] = pd.to_datetime(df['Driver Response Timestamp'])\n",
    "df['Order Create Timestamp'] = pd.to_datetime(df['Order Create Timestamp'])\n",
    "\n",
    "df['Order Match Time'] = df['Driver Response Timestamp'] - df['Order Create Timestamp']"
   ]
  },
  {
   "cell_type": "code",
   "execution_count": 7,
   "id": "a630a212",
   "metadata": {},
   "outputs": [],
   "source": [
    "# Create a column to Change timedleta to seconds\n",
    "df['Order Match Seconds Difference'] = df['Order Match Time'].dt.total_seconds()"
   ]
  },
  {
   "cell_type": "code",
   "execution_count": 8,
   "id": "f180ecb6",
   "metadata": {},
   "outputs": [],
   "source": [
    "# Create a column for the Order creation date\n",
    "df['Order Create Day'] = df['Order Create Timestamp'].dt.date"
   ]
  },
  {
   "cell_type": "code",
   "execution_count": 9,
   "id": "4983c807",
   "metadata": {},
   "outputs": [
    {
     "data": {
      "text/html": [
       "<div>\n",
       "<style scoped>\n",
       "    .dataframe tbody tr th:only-of-type {\n",
       "        vertical-align: middle;\n",
       "    }\n",
       "\n",
       "    .dataframe tbody tr th {\n",
       "        vertical-align: top;\n",
       "    }\n",
       "\n",
       "    .dataframe thead th {\n",
       "        text-align: right;\n",
       "    }\n",
       "</style>\n",
       "<table border=\"1\" class=\"dataframe\">\n",
       "  <thead>\n",
       "    <tr style=\"text-align: right;\">\n",
       "      <th></th>\n",
       "      <th>Driver Response Timestamp</th>\n",
       "      <th>Order Create Timestamp</th>\n",
       "      <th>Order Id</th>\n",
       "      <th>Order Match Time</th>\n",
       "      <th>Order Match Seconds Difference</th>\n",
       "      <th>Order Create Day</th>\n",
       "    </tr>\n",
       "  </thead>\n",
       "  <tbody>\n",
       "    <tr>\n",
       "      <th>0</th>\n",
       "      <td>2017-03-24 22:58:31</td>\n",
       "      <td>2017-03-24 22:57:38</td>\n",
       "      <td>1</td>\n",
       "      <td>0 days 00:00:53</td>\n",
       "      <td>53.0</td>\n",
       "      <td>2017-03-24</td>\n",
       "    </tr>\n",
       "    <tr>\n",
       "      <th>1</th>\n",
       "      <td>2017-03-25 01:04:53</td>\n",
       "      <td>2017-03-25 01:04:53</td>\n",
       "      <td>2</td>\n",
       "      <td>0 days 00:00:00</td>\n",
       "      <td>0.0</td>\n",
       "      <td>2017-03-25</td>\n",
       "    </tr>\n",
       "    <tr>\n",
       "      <th>2</th>\n",
       "      <td>2017-03-25 01:06:16</td>\n",
       "      <td>2017-03-25 01:06:16</td>\n",
       "      <td>3</td>\n",
       "      <td>0 days 00:00:00</td>\n",
       "      <td>0.0</td>\n",
       "      <td>2017-03-25</td>\n",
       "    </tr>\n",
       "    <tr>\n",
       "      <th>3</th>\n",
       "      <td>2017-03-25 01:08:40</td>\n",
       "      <td>2017-03-25 01:07:03</td>\n",
       "      <td>4</td>\n",
       "      <td>0 days 00:01:37</td>\n",
       "      <td>97.0</td>\n",
       "      <td>2017-03-25</td>\n",
       "    </tr>\n",
       "    <tr>\n",
       "      <th>4</th>\n",
       "      <td>2017-03-25 02:34:18</td>\n",
       "      <td>2017-03-25 02:34:08</td>\n",
       "      <td>5</td>\n",
       "      <td>0 days 00:00:10</td>\n",
       "      <td>10.0</td>\n",
       "      <td>2017-03-25</td>\n",
       "    </tr>\n",
       "  </tbody>\n",
       "</table>\n",
       "</div>"
      ],
      "text/plain": [
       "  Driver Response Timestamp Order Create Timestamp  Order Id Order Match Time  \\\n",
       "0       2017-03-24 22:58:31    2017-03-24 22:57:38         1  0 days 00:00:53   \n",
       "1       2017-03-25 01:04:53    2017-03-25 01:04:53         2  0 days 00:00:00   \n",
       "2       2017-03-25 01:06:16    2017-03-25 01:06:16         3  0 days 00:00:00   \n",
       "3       2017-03-25 01:08:40    2017-03-25 01:07:03         4  0 days 00:01:37   \n",
       "4       2017-03-25 02:34:18    2017-03-25 02:34:08         5  0 days 00:00:10   \n",
       "\n",
       "   Order Match Seconds Difference Order Create Day  \n",
       "0                            53.0       2017-03-24  \n",
       "1                             0.0       2017-03-25  \n",
       "2                             0.0       2017-03-25  \n",
       "3                            97.0       2017-03-25  \n",
       "4                            10.0       2017-03-25  "
      ]
     },
     "execution_count": 9,
     "metadata": {},
     "output_type": "execute_result"
    }
   ],
   "source": [
    "df.head()"
   ]
  },
  {
   "cell_type": "code",
   "execution_count": 10,
   "id": "b9d83d48",
   "metadata": {},
   "outputs": [],
   "source": [
    "# Calculate the average Order matching second each day using group by function\n",
    "df1 = df.groupby(['Order Create Day'])['Order Match Seconds Difference'].mean()"
   ]
  },
  {
   "cell_type": "code",
   "execution_count": 11,
   "id": "f899a9d4",
   "metadata": {},
   "outputs": [
    {
     "data": {
      "text/html": [
       "<div>\n",
       "<style scoped>\n",
       "    .dataframe tbody tr th:only-of-type {\n",
       "        vertical-align: middle;\n",
       "    }\n",
       "\n",
       "    .dataframe tbody tr th {\n",
       "        vertical-align: top;\n",
       "    }\n",
       "\n",
       "    .dataframe thead th {\n",
       "        text-align: right;\n",
       "    }\n",
       "</style>\n",
       "<table border=\"1\" class=\"dataframe\">\n",
       "  <thead>\n",
       "    <tr style=\"text-align: right;\">\n",
       "      <th></th>\n",
       "      <th>Date</th>\n",
       "      <th>Average Order Matching Seconds</th>\n",
       "    </tr>\n",
       "  </thead>\n",
       "  <tbody>\n",
       "    <tr>\n",
       "      <th>0</th>\n",
       "      <td>2017-03-24</td>\n",
       "      <td>53.000000</td>\n",
       "    </tr>\n",
       "    <tr>\n",
       "      <th>1</th>\n",
       "      <td>2017-03-25</td>\n",
       "      <td>55.877095</td>\n",
       "    </tr>\n",
       "    <tr>\n",
       "      <th>2</th>\n",
       "      <td>2017-03-26</td>\n",
       "      <td>33.602349</td>\n",
       "    </tr>\n",
       "    <tr>\n",
       "      <th>3</th>\n",
       "      <td>2017-03-27</td>\n",
       "      <td>50.013605</td>\n",
       "    </tr>\n",
       "    <tr>\n",
       "      <th>4</th>\n",
       "      <td>2017-03-28</td>\n",
       "      <td>52.187500</td>\n",
       "    </tr>\n",
       "    <tr>\n",
       "      <th>5</th>\n",
       "      <td>2017-03-29</td>\n",
       "      <td>52.904918</td>\n",
       "    </tr>\n",
       "    <tr>\n",
       "      <th>6</th>\n",
       "      <td>2017-03-30</td>\n",
       "      <td>53.400631</td>\n",
       "    </tr>\n",
       "    <tr>\n",
       "      <th>7</th>\n",
       "      <td>2017-03-31</td>\n",
       "      <td>53.045564</td>\n",
       "    </tr>\n",
       "    <tr>\n",
       "      <th>8</th>\n",
       "      <td>2017-04-01</td>\n",
       "      <td>94.528958</td>\n",
       "    </tr>\n",
       "    <tr>\n",
       "      <th>9</th>\n",
       "      <td>2017-04-02</td>\n",
       "      <td>34.213462</td>\n",
       "    </tr>\n",
       "    <tr>\n",
       "      <th>10</th>\n",
       "      <td>2017-04-03</td>\n",
       "      <td>38.250000</td>\n",
       "    </tr>\n",
       "  </tbody>\n",
       "</table>\n",
       "</div>"
      ],
      "text/plain": [
       "          Date  Average Order Matching Seconds\n",
       "0   2017-03-24                       53.000000\n",
       "1   2017-03-25                       55.877095\n",
       "2   2017-03-26                       33.602349\n",
       "3   2017-03-27                       50.013605\n",
       "4   2017-03-28                       52.187500\n",
       "5   2017-03-29                       52.904918\n",
       "6   2017-03-30                       53.400631\n",
       "7   2017-03-31                       53.045564\n",
       "8   2017-04-01                       94.528958\n",
       "9   2017-04-02                       34.213462\n",
       "10  2017-04-03                       38.250000"
      ]
     },
     "execution_count": 11,
     "metadata": {},
     "output_type": "execute_result"
    }
   ],
   "source": [
    "# Convert series into Dataframe\n",
    "df1 = pd.DataFrame({'Date':df1.index, 'Average Order Matching Seconds':df1.values})\n",
    "df1"
   ]
  },
  {
   "cell_type": "markdown",
   "id": "5dda7904",
   "metadata": {},
   "source": [
    "***"
   ]
  },
  {
   "cell_type": "markdown",
   "id": "bc661f6b",
   "metadata": {},
   "source": [
    "We may look at the data with Statisical test.\n",
    "####  Assume that the duration after the introduction of change is significantly different from before\n",
    "- H0 : |After - Before| = 0\n",
    "- H1 : |After - Before| > 0"
   ]
  },
  {
   "cell_type": "code",
   "execution_count": 12,
   "id": "0f4a9792",
   "metadata": {},
   "outputs": [],
   "source": [
    "# Create two dataset: Before and After \n",
    "Before = df1[df1['Date'] < pd.Timestamp('2017-03-30')]\n",
    "After = df1[df1['Date'] >= pd.Timestamp('2017-03-30')]"
   ]
  },
  {
   "cell_type": "code",
   "execution_count": 13,
   "id": "46eb9a97",
   "metadata": {},
   "outputs": [
    {
     "data": {
      "text/html": [
       "<div>\n",
       "<style scoped>\n",
       "    .dataframe tbody tr th:only-of-type {\n",
       "        vertical-align: middle;\n",
       "    }\n",
       "\n",
       "    .dataframe tbody tr th {\n",
       "        vertical-align: top;\n",
       "    }\n",
       "\n",
       "    .dataframe thead th {\n",
       "        text-align: right;\n",
       "    }\n",
       "</style>\n",
       "<table border=\"1\" class=\"dataframe\">\n",
       "  <thead>\n",
       "    <tr style=\"text-align: right;\">\n",
       "      <th></th>\n",
       "      <th>Date</th>\n",
       "      <th>Average Order Matching Seconds</th>\n",
       "    </tr>\n",
       "  </thead>\n",
       "  <tbody>\n",
       "    <tr>\n",
       "      <th>0</th>\n",
       "      <td>2017-03-24</td>\n",
       "      <td>53.000000</td>\n",
       "    </tr>\n",
       "    <tr>\n",
       "      <th>1</th>\n",
       "      <td>2017-03-25</td>\n",
       "      <td>55.877095</td>\n",
       "    </tr>\n",
       "    <tr>\n",
       "      <th>2</th>\n",
       "      <td>2017-03-26</td>\n",
       "      <td>33.602349</td>\n",
       "    </tr>\n",
       "    <tr>\n",
       "      <th>3</th>\n",
       "      <td>2017-03-27</td>\n",
       "      <td>50.013605</td>\n",
       "    </tr>\n",
       "    <tr>\n",
       "      <th>4</th>\n",
       "      <td>2017-03-28</td>\n",
       "      <td>52.187500</td>\n",
       "    </tr>\n",
       "    <tr>\n",
       "      <th>5</th>\n",
       "      <td>2017-03-29</td>\n",
       "      <td>52.904918</td>\n",
       "    </tr>\n",
       "  </tbody>\n",
       "</table>\n",
       "</div>"
      ],
      "text/plain": [
       "         Date  Average Order Matching Seconds\n",
       "0  2017-03-24                       53.000000\n",
       "1  2017-03-25                       55.877095\n",
       "2  2017-03-26                       33.602349\n",
       "3  2017-03-27                       50.013605\n",
       "4  2017-03-28                       52.187500\n",
       "5  2017-03-29                       52.904918"
      ]
     },
     "execution_count": 13,
     "metadata": {},
     "output_type": "execute_result"
    }
   ],
   "source": [
    "Before"
   ]
  },
  {
   "cell_type": "code",
   "execution_count": 14,
   "id": "94ce1795",
   "metadata": {},
   "outputs": [
    {
     "data": {
      "text/html": [
       "<div>\n",
       "<style scoped>\n",
       "    .dataframe tbody tr th:only-of-type {\n",
       "        vertical-align: middle;\n",
       "    }\n",
       "\n",
       "    .dataframe tbody tr th {\n",
       "        vertical-align: top;\n",
       "    }\n",
       "\n",
       "    .dataframe thead th {\n",
       "        text-align: right;\n",
       "    }\n",
       "</style>\n",
       "<table border=\"1\" class=\"dataframe\">\n",
       "  <thead>\n",
       "    <tr style=\"text-align: right;\">\n",
       "      <th></th>\n",
       "      <th>Date</th>\n",
       "      <th>Average Order Matching Seconds</th>\n",
       "    </tr>\n",
       "  </thead>\n",
       "  <tbody>\n",
       "    <tr>\n",
       "      <th>6</th>\n",
       "      <td>2017-03-30</td>\n",
       "      <td>53.400631</td>\n",
       "    </tr>\n",
       "    <tr>\n",
       "      <th>7</th>\n",
       "      <td>2017-03-31</td>\n",
       "      <td>53.045564</td>\n",
       "    </tr>\n",
       "    <tr>\n",
       "      <th>8</th>\n",
       "      <td>2017-04-01</td>\n",
       "      <td>94.528958</td>\n",
       "    </tr>\n",
       "    <tr>\n",
       "      <th>9</th>\n",
       "      <td>2017-04-02</td>\n",
       "      <td>34.213462</td>\n",
       "    </tr>\n",
       "    <tr>\n",
       "      <th>10</th>\n",
       "      <td>2017-04-03</td>\n",
       "      <td>38.250000</td>\n",
       "    </tr>\n",
       "  </tbody>\n",
       "</table>\n",
       "</div>"
      ],
      "text/plain": [
       "          Date  Average Order Matching Seconds\n",
       "6   2017-03-30                       53.400631\n",
       "7   2017-03-31                       53.045564\n",
       "8   2017-04-01                       94.528958\n",
       "9   2017-04-02                       34.213462\n",
       "10  2017-04-03                       38.250000"
      ]
     },
     "execution_count": 14,
     "metadata": {},
     "output_type": "execute_result"
    }
   ],
   "source": [
    "After"
   ]
  },
  {
   "cell_type": "code",
   "execution_count": 15,
   "id": "ecfb6431",
   "metadata": {
    "scrolled": true
   },
   "outputs": [
    {
     "data": {
      "text/html": [
       "<div>\n",
       "<style scoped>\n",
       "    .dataframe tbody tr th:only-of-type {\n",
       "        vertical-align: middle;\n",
       "    }\n",
       "\n",
       "    .dataframe tbody tr th {\n",
       "        vertical-align: top;\n",
       "    }\n",
       "\n",
       "    .dataframe thead th {\n",
       "        text-align: right;\n",
       "    }\n",
       "</style>\n",
       "<table border=\"1\" class=\"dataframe\">\n",
       "  <thead>\n",
       "    <tr style=\"text-align: right;\">\n",
       "      <th></th>\n",
       "      <th>Stat</th>\n",
       "      <th>Before</th>\n",
       "      <th>After</th>\n",
       "    </tr>\n",
       "  </thead>\n",
       "  <tbody>\n",
       "    <tr>\n",
       "      <th>0</th>\n",
       "      <td>count</td>\n",
       "      <td>6.000000</td>\n",
       "      <td>5.000000</td>\n",
       "    </tr>\n",
       "    <tr>\n",
       "      <th>1</th>\n",
       "      <td>mean</td>\n",
       "      <td>49.597578</td>\n",
       "      <td>54.687723</td>\n",
       "    </tr>\n",
       "    <tr>\n",
       "      <th>2</th>\n",
       "      <td>std</td>\n",
       "      <td>8.058231</td>\n",
       "      <td>23.880282</td>\n",
       "    </tr>\n",
       "  </tbody>\n",
       "</table>\n",
       "</div>"
      ],
      "text/plain": [
       "    Stat     Before      After\n",
       "0  count   6.000000   5.000000\n",
       "1   mean  49.597578  54.687723\n",
       "2    std   8.058231  23.880282"
      ]
     },
     "execution_count": 15,
     "metadata": {},
     "output_type": "execute_result"
    }
   ],
   "source": [
    "# Before Stat\n",
    "Before_stat = Before['Average Order Matching Seconds'].describe()\n",
    "Before = pd.DataFrame({'Stat':Before_stat.index, 'Before':Before_stat.values})\n",
    "\n",
    "# After Stat\n",
    "After_stat = After['Average Order Matching Seconds'].describe()\n",
    "After = pd.DataFrame({'Stat':After_stat.index, 'After':After_stat.values})\n",
    "\n",
    "# Join tables and drop rows that are unrelevant\n",
    "drop_rows = [3,4,5,6,7]\n",
    "stat = pd.merge(Before,After, on='Stat')\n",
    "stat.drop(drop_rows, inplace=True)\n",
    "stat"
   ]
  },
  {
   "cell_type": "code",
   "execution_count": 31,
   "id": "1428ee6e",
   "metadata": {},
   "outputs": [
    {
     "data": {
      "text/plain": [
       "0.45550222436075727"
      ]
     },
     "execution_count": 31,
     "metadata": {},
     "output_type": "execute_result"
    }
   ],
   "source": [
    "# Calculate z-score\n",
    "Before_count = stat.iloc[0]['Before'].astype(int)\n",
    "Before_mean = stat.iloc[1]['Before']\n",
    "Before_std = stat.iloc[2]['Before']\n",
    "\n",
    "After_count = stat.iloc[0]['After'].astype(int)\n",
    "After_mean = stat.iloc[1]['After']\n",
    "After_std = stat.iloc[2]['After']\n",
    "\n",
    "z_score = (After_mean - Before_mean)/ math.sqrt((After_std**2)/After_count + (Before_std**2)/Before_count)\n",
    "z_score"
   ]
  },
  {
   "cell_type": "code",
   "execution_count": 32,
   "id": "4b7e1016",
   "metadata": {},
   "outputs": [
    {
     "data": {
      "text/plain": [
       "0.3243739838392138"
      ]
     },
     "execution_count": 32,
     "metadata": {},
     "output_type": "execute_result"
    }
   ],
   "source": [
    "import scipy.stats\n",
    "\n",
    "# find p-value\n",
    "scipy.stats.norm.sf(abs(z_score))"
   ]
  },
  {
   "cell_type": "markdown",
   "id": "302c6041",
   "metadata": {},
   "source": [
    "### The p-value shows the result is not siginificant\n",
    "Thereore, the duration after the introduction of change is not significantly different to the duration before the introduction of change"
   ]
  },
  {
   "cell_type": "code",
   "execution_count": 41,
   "id": "3bfe02f5",
   "metadata": {
    "scrolled": true
   },
   "outputs": [
    {
     "data": {
      "image/png": "[encoded data removed]",
      "text/plain": [
       "<Figure size 864x216 with 1 Axes>"
      ]
     },
     "metadata": {
      "needs_background": "light"
     },
     "output_type": "display_data"
    }
   ],
   "source": [
    "# visualize\n",
    "plt.figure(figsize=(12,3))\n",
    "plt.plot(df1['Date'],df1['Average Order Matching Seconds'])\n",
    "\n",
    "plt.title('Average Order Matching Time', fontsize=20)\n",
    "plt.xlabel('Date')\n",
    "plt.ylabel('seconds')\n",
    "plt.xticks(df1['Date'], rotation=90)\n",
    "plt.axvline(pd.Timestamp('2017-03-30') , color='r', linestyle='--')\n",
    "\n",
    "plt.show()"
   ]
  },
  {
   "cell_type": "markdown",
   "id": "db10d8c4",
   "metadata": {},
   "source": [
    "Even though the pvalue shows that the average duration before and after the change was introduced was not significant. However, we can see that the duration increases dramtically on the third day after the change was introduced, and decreases dramtically on the forth day. "
   ]
  },
  {
   "cell_type": "markdown",
   "id": "5fb11e03",
   "metadata": {},
   "source": [
    "# Conclusion\n",
    "- Average of the duration since the time an order was created to the time the order was accepted by a driver has increased by 10 seconds\n",
    "- Variation in the duration has greatly increased after the change was introduced \n",
    "- Durations on the forth and fifth day are lower than the average duration before\n",
    "- More observations days were needed"
   ]
  },
  {
   "cell_type": "code",
   "execution_count": null,
   "id": "7403e978",
   "metadata": {},
   "outputs": [],
   "source": []
  }
 ],
 "metadata": {
  "kernelspec": {
   "display_name": "Python 3",
   "language": "python",
   "name": "python3"
  },
  "language_info": {
   "codemirror_mode": {
    "name": "ipython",
    "version": 3
   },
   "file_extension": ".py",
   "mimetype": "text/x-python",
   "name": "python",
   "nbconvert_exporter": "python",
   "pygments_lexer": "ipython3",
   "version": "3.8.8"
  }
 },
 "nbformat": 4,
 "nbformat_minor": 5
}
