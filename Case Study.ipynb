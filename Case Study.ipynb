{
 "cells": [
  {
   "cell_type": "code",
   "execution_count": 38,
   "id": "a598054b",
   "metadata": {},
   "outputs": [],
   "source": [
    "# import libraries\n",
    "import math\n",
    "import pandas as pd\n",
    "import numpy as np\n",
    "import matplotlib.pyplot as plt\n",
    "import seaborn as sns\n",
    "import datetime\n",
    "%matplotlib inline"
   ]
  },
  {
   "cell_type": "markdown",
   "id": "7fc9f6d0",
   "metadata": {},
   "source": [
    "# Part I"
   ]
  },
  {
   "cell_type": "markdown",
   "id": "1e0aed29",
   "metadata": {},
   "source": [
    "Logic of the sample system: A record is created in van-order when user places an order. Each order starts at order_subset A, and each order can be accepted by multiple drivers. There will be a new record in the vaninterest table when a driver accepts an order. After accepting order, the driver has the option to reject an order, which will go back to the pool and allow other drivers to match this order again."
   ]
  },
  {
   "cell_type": "markdown",
   "id": "875f1587",
   "metadata": {},
   "source": [
    "#### a) For hours with orders, how many orders are there each hour based on order time?"
   ]
  },
  {
   "cell_type": "code",
   "execution_count": 53,
   "id": "880d7823",
   "metadata": {},
   "outputs": [
    {
     "data": {
      "text/html": [
       "<div>\n",
       "<style scoped>\n",
       "    .dataframe tbody tr th:only-of-type {\n",
       "        vertical-align: middle;\n",
       "    }\n",
       "\n",
       "    .dataframe tbody tr th {\n",
       "        vertical-align: top;\n",
       "    }\n",
       "\n",
       "    .dataframe thead th {\n",
       "        text-align: right;\n",
       "    }\n",
       "</style>\n",
       "<table border=\"1\" class=\"dataframe\">\n",
       "  <thead>\n",
       "    <tr style=\"text-align: right;\">\n",
       "      <th></th>\n",
       "      <th>Order_date</th>\n",
       "      <th>Order_hour</th>\n",
       "      <th>Numer_of_Order</th>\n",
       "    </tr>\n",
       "  </thead>\n",
       "  <tbody>\n",
       "    <tr>\n",
       "      <th>0</th>\n",
       "      <td>2017-4-18</td>\n",
       "      <td>7</td>\n",
       "      <td>2</td>\n",
       "    </tr>\n",
       "    <tr>\n",
       "      <th>1</th>\n",
       "      <td>2017-4-18</td>\n",
       "      <td>8</td>\n",
       "      <td>2</td>\n",
       "    </tr>\n",
       "    <tr>\n",
       "      <th>2</th>\n",
       "      <td>2017-4-18</td>\n",
       "      <td>9</td>\n",
       "      <td>5</td>\n",
       "    </tr>\n",
       "    <tr>\n",
       "      <th>3</th>\n",
       "      <td>2017-4-18</td>\n",
       "      <td>10</td>\n",
       "      <td>14</td>\n",
       "    </tr>\n",
       "    <tr>\n",
       "      <th>4</th>\n",
       "      <td>2017-4-18</td>\n",
       "      <td>11</td>\n",
       "      <td>28</td>\n",
       "    </tr>\n",
       "  </tbody>\n",
       "</table>\n",
       "</div>"
      ],
      "text/plain": [
       "  Order_date  Order_hour  Numer_of_Order\n",
       "0  2017-4-18           7               2\n",
       "1  2017-4-18           8               2\n",
       "2  2017-4-18           9               5\n",
       "3  2017-4-18          10              14\n",
       "4  2017-4-18          11              28"
      ]
     },
     "execution_count": 53,
     "metadata": {},
     "output_type": "execute_result"
    }
   ],
   "source": [
    "'''\n",
    "SELECT Order_date, Order_hour, COUNT(idvanOrder) AS Numer_of_Order,\n",
    "FROM (\n",
    "    SELECT *, \n",
    "        CONCAT(EXTRACT(YEAR FROM order_datetime),'-',EXTRACT(MONTH FROM order_datetime),'-',EXTRACT(DAY FROM order_datetime)) AS Order_date, \n",
    "        EXTRACT(HOUR FROM order_datetime) AS Order_hour\n",
    "    FROM vanorder)\n",
    "GROUP BY Order_date, Order_hour\n",
    "ORDER BY Order_date, Order_hour\n",
    "'''\n",
    "\n",
    "pd.read_csv('Question_a.csv').head()"
   ]
  },
  {
   "cell_type": "markdown",
   "id": "f66934b5",
   "metadata": {},
   "source": [
    "#### b) What is the percentage of money spent for each of the following group of clients?\n",
    "- Clients who completed 1 order\n",
    "- Clients who completed more than 1 order"
   ]
  },
  {
   "cell_type": "code",
   "execution_count": 56,
   "id": "198fc59e",
   "metadata": {},
   "outputs": [
    {
     "data": {
      "text/html": [
       "<div>\n",
       "<style scoped>\n",
       "    .dataframe tbody tr th:only-of-type {\n",
       "        vertical-align: middle;\n",
       "    }\n",
       "\n",
       "    .dataframe tbody tr th {\n",
       "        vertical-align: top;\n",
       "    }\n",
       "\n",
       "    .dataframe thead th {\n",
       "        text-align: right;\n",
       "    }\n",
       "</style>\n",
       "<table border=\"1\" class=\"dataframe\">\n",
       "  <thead>\n",
       "    <tr style=\"text-align: right;\">\n",
       "      <th></th>\n",
       "      <th>client</th>\n",
       "      <th>total_price</th>\n",
       "      <th>percentage</th>\n",
       "    </tr>\n",
       "  </thead>\n",
       "  <tbody>\n",
       "    <tr>\n",
       "      <th>0</th>\n",
       "      <td>Clients who completed more than 1 order</td>\n",
       "      <td>16602</td>\n",
       "      <td>28.61%</td>\n",
       "    </tr>\n",
       "    <tr>\n",
       "      <th>1</th>\n",
       "      <td>Clients who completed 1 order</td>\n",
       "      <td>41428</td>\n",
       "      <td>71.39%</td>\n",
       "    </tr>\n",
       "  </tbody>\n",
       "</table>\n",
       "</div>"
      ],
      "text/plain": [
       "                                    client  total_price percentage\n",
       "0  Clients who completed more than 1 order        16602     28.61%\n",
       "1            Clients who completed 1 order        41428     71.39%"
      ]
     },
     "execution_count": 56,
     "metadata": {},
     "output_type": "execute_result"
    }
   ],
   "source": [
    "'''\n",
    "SELECT *, CONCAT(ROUND(total_price/(SUM(total_price) OVER())*100,2),'%') AS percentage\n",
    "FROM(\n",
    "    SELECT CASE WHEN order_count = 1 THEN 'Clients who completed 1 order' ELSE 'Clients who completed more than 1 order' END AS client, SUM(total_price) AS total_price\n",
    "    FROM (\n",
    "        SELECT COUNT(requestor_client_id) AS order_count, SUM(total_price) AS total_price\n",
    "        FROM vanorder\n",
    "        WHERE order_status = 2\n",
    "        GROUP BY requestor_client_id)\n",
    "    GROUP BY 1)\n",
    "'''\n",
    "pd.read_csv('Question_b.csv').head()"
   ]
  },
  {
   "cell_type": "markdown",
   "id": "1d9072ef",
   "metadata": {},
   "source": [
    "#### c) List of unique Client ID who completed at least one order, also show each client's total money spent, and the total order(s) completed. Order the list by total money spent (descending), then by total order(s) completed (descending)\n"
   ]
  },
  {
   "cell_type": "code",
   "execution_count": 54,
   "id": "3d697970",
   "metadata": {},
   "outputs": [
    {
     "data": {
      "text/html": [
       "<div>\n",
       "<style scoped>\n",
       "    .dataframe tbody tr th:only-of-type {\n",
       "        vertical-align: middle;\n",
       "    }\n",
       "\n",
       "    .dataframe tbody tr th {\n",
       "        vertical-align: top;\n",
       "    }\n",
       "\n",
       "    .dataframe thead th {\n",
       "        text-align: right;\n",
       "    }\n",
       "</style>\n",
       "<table border=\"1\" class=\"dataframe\">\n",
       "  <thead>\n",
       "    <tr style=\"text-align: right;\">\n",
       "      <th></th>\n",
       "      <th>requestor_client_id</th>\n",
       "      <th>total_money_spent</th>\n",
       "      <th>total_order_completed</th>\n",
       "    </tr>\n",
       "  </thead>\n",
       "  <tbody>\n",
       "    <tr>\n",
       "      <th>0</th>\n",
       "      <td>48</td>\n",
       "      <td>1904</td>\n",
       "      <td>8</td>\n",
       "    </tr>\n",
       "    <tr>\n",
       "      <th>1</th>\n",
       "      <td>197</td>\n",
       "      <td>1710</td>\n",
       "      <td>1</td>\n",
       "    </tr>\n",
       "    <tr>\n",
       "      <th>2</th>\n",
       "      <td>16</td>\n",
       "      <td>1332</td>\n",
       "      <td>1</td>\n",
       "    </tr>\n",
       "    <tr>\n",
       "      <th>3</th>\n",
       "      <td>17</td>\n",
       "      <td>1190</td>\n",
       "      <td>1</td>\n",
       "    </tr>\n",
       "    <tr>\n",
       "      <th>4</th>\n",
       "      <td>10</td>\n",
       "      <td>1115</td>\n",
       "      <td>1</td>\n",
       "    </tr>\n",
       "  </tbody>\n",
       "</table>\n",
       "</div>"
      ],
      "text/plain": [
       "   requestor_client_id  total_money_spent  total_order_completed\n",
       "0                   48               1904                      8\n",
       "1                  197               1710                      1\n",
       "2                   16               1332                      1\n",
       "3                   17               1190                      1\n",
       "4                   10               1115                      1"
      ]
     },
     "execution_count": 54,
     "metadata": {},
     "output_type": "execute_result"
    }
   ],
   "source": [
    "'''\n",
    "SSELECT DISTINCT(requestor_client_id), SUM(total_price) AS total_money_spent, COUNT(requestor_client_id) AS total_order_completed\n",
    "FROM vanorder\n",
    "WHERE order_status = 2\n",
    "GROUP BY requestor_client_id\n",
    "ORDER BY total_money_spent DESC, total_order_completed DESC\n",
    "'''\n",
    "\n",
    "pd.read_csv('Question_c.csv').head()\n"
   ]
  },
  {
   "cell_type": "markdown",
   "id": "9e49eed2",
   "metadata": {},
   "source": [
    "#### d) List of all drivers who took order(s) (regardless of whether they eventually complete the order), also show each driver's total income and total order(s) completed. Order the list by total income (descending), then by total order(s) completed"
   ]
  },
  {
   "cell_type": "code",
   "execution_count": 55,
   "id": "91dac126",
   "metadata": {},
   "outputs": [
    {
     "data": {
      "text/html": [
       "<div>\n",
       "<style scoped>\n",
       "    .dataframe tbody tr th:only-of-type {\n",
       "        vertical-align: middle;\n",
       "    }\n",
       "\n",
       "    .dataframe tbody tr th {\n",
       "        vertical-align: top;\n",
       "    }\n",
       "\n",
       "    .dataframe thead th {\n",
       "        text-align: right;\n",
       "    }\n",
       "</style>\n",
       "<table border=\"1\" class=\"dataframe\">\n",
       "  <thead>\n",
       "    <tr style=\"text-align: right;\">\n",
       "      <th></th>\n",
       "      <th>driver</th>\n",
       "      <th>total_income</th>\n",
       "      <th>total_order_completed</th>\n",
       "    </tr>\n",
       "  </thead>\n",
       "  <tbody>\n",
       "    <tr>\n",
       "      <th>0</th>\n",
       "      <td>96</td>\n",
       "      <td>1710</td>\n",
       "      <td>1</td>\n",
       "    </tr>\n",
       "    <tr>\n",
       "      <th>1</th>\n",
       "      <td>150</td>\n",
       "      <td>1332</td>\n",
       "      <td>1</td>\n",
       "    </tr>\n",
       "    <tr>\n",
       "      <th>2</th>\n",
       "      <td>266</td>\n",
       "      <td>1190</td>\n",
       "      <td>1</td>\n",
       "    </tr>\n",
       "    <tr>\n",
       "      <th>3</th>\n",
       "      <td>290</td>\n",
       "      <td>1115</td>\n",
       "      <td>1</td>\n",
       "    </tr>\n",
       "    <tr>\n",
       "      <th>4</th>\n",
       "      <td>252</td>\n",
       "      <td>1115</td>\n",
       "      <td>1</td>\n",
       "    </tr>\n",
       "  </tbody>\n",
       "</table>\n",
       "</div>"
      ],
      "text/plain": [
       "   driver  total_income  total_order_completed\n",
       "0      96          1710                      1\n",
       "1     150          1332                      1\n",
       "2     266          1190                      1\n",
       "3     290          1115                      1\n",
       "4     252          1115                      1"
      ]
     },
     "execution_count": 55,
     "metadata": {},
     "output_type": "execute_result"
    }
   ],
   "source": [
    "'''\n",
    "SELECT int.servicer_auth as driver, \n",
    "    SUM(CASE WHEN vorder.servicer_auth IS NULL THEN 0 ELSE total_price END) AS total_income, \n",
    "    COUNT(vorder.servicer_auth) AS total_order_completed\n",
    "FROM vaninterest int\n",
    "JOIN vanorder vorder\n",
    "ON int.idvanOrder = vorder.idvanOrder\n",
    "GROUP BY int.servicer_auth\n",
    "ORDER BY total_income DESC, total_order_completed\n",
    "'''\n",
    "\n",
    "pd.read_csv('Question_d.csv').head()"
   ]
  },
  {
   "cell_type": "markdown",
   "id": "9664a641",
   "metadata": {},
   "source": [
    "#### e) List of driver ID who took orders, but never complete an order?"
   ]
  },
  {
   "cell_type": "code",
   "execution_count": 58,
   "id": "04539a79",
   "metadata": {},
   "outputs": [
    {
     "data": {
      "text/html": [
       "<div>\n",
       "<style scoped>\n",
       "    .dataframe tbody tr th:only-of-type {\n",
       "        vertical-align: middle;\n",
       "    }\n",
       "\n",
       "    .dataframe tbody tr th {\n",
       "        vertical-align: top;\n",
       "    }\n",
       "\n",
       "    .dataframe thead th {\n",
       "        text-align: right;\n",
       "    }\n",
       "</style>\n",
       "<table border=\"1\" class=\"dataframe\">\n",
       "  <thead>\n",
       "    <tr style=\"text-align: right;\">\n",
       "      <th></th>\n",
       "      <th>servicer_auth</th>\n",
       "    </tr>\n",
       "  </thead>\n",
       "  <tbody>\n",
       "    <tr>\n",
       "      <th>0</th>\n",
       "      <td>291</td>\n",
       "    </tr>\n",
       "    <tr>\n",
       "      <th>1</th>\n",
       "      <td>297</td>\n",
       "    </tr>\n",
       "    <tr>\n",
       "      <th>2</th>\n",
       "      <td>285</td>\n",
       "    </tr>\n",
       "    <tr>\n",
       "      <th>3</th>\n",
       "      <td>294</td>\n",
       "    </tr>\n",
       "    <tr>\n",
       "      <th>4</th>\n",
       "      <td>287</td>\n",
       "    </tr>\n",
       "    <tr>\n",
       "      <th>5</th>\n",
       "      <td>286</td>\n",
       "    </tr>\n",
       "    <tr>\n",
       "      <th>6</th>\n",
       "      <td>296</td>\n",
       "    </tr>\n",
       "    <tr>\n",
       "      <th>7</th>\n",
       "      <td>288</td>\n",
       "    </tr>\n",
       "    <tr>\n",
       "      <th>8</th>\n",
       "      <td>289</td>\n",
       "    </tr>\n",
       "    <tr>\n",
       "      <th>9</th>\n",
       "      <td>21</td>\n",
       "    </tr>\n",
       "    <tr>\n",
       "      <th>10</th>\n",
       "      <td>293</td>\n",
       "    </tr>\n",
       "  </tbody>\n",
       "</table>\n",
       "</div>"
      ],
      "text/plain": [
       "    servicer_auth\n",
       "0             291\n",
       "1             297\n",
       "2             285\n",
       "3             294\n",
       "4             287\n",
       "5             286\n",
       "6             296\n",
       "7             288\n",
       "8             289\n",
       "9              21\n",
       "10            293"
      ]
     },
     "execution_count": 58,
     "metadata": {},
     "output_type": "execute_result"
    }
   ],
   "source": [
    "'''\n",
    "SELECT driver.servicer_auth\n",
    "FROM (\n",
    "    SELECT servicer_auth\n",
    "    FROM vaninterest\n",
    "    WHERE idvanOrder IN (SELECT idvanOrder FROM vanorder WHERE order_status = 3) ) driver\n",
    "LEFT JOIN vanorder\n",
    "ON driver.servicer_auth = vanorder.servicer_auth\n",
    "WHERE vanorder.order_status is NULL OR vanorder.order_status  = 3\n",
    "'''\n",
    "\n",
    "pd.read_csv('Question_e.csv')"
   ]
  },
  {
   "cell_type": "markdown",
   "id": "308f56d1",
   "metadata": {},
   "source": [
    "***"
   ]
  },
  {
   "cell_type": "markdown",
   "id": "d8d3341b",
   "metadata": {},
   "source": [
    "# Part II"
   ]
  },
  {
   "cell_type": "markdown",
   "id": "fe4c5ee4",
   "metadata": {},
   "source": [
    "We would like to test the impact of a change introduced at ‘2017-03-30 12:00:00 AM’ on our Order Allocation system. The objective of the change is to improve order Match Time, which is the duration since the time an order was created to the time the order was accepted by a driver. \n",
    "\n",
    "- What is the resulting impact from this change?\n",
    "- Any additional insights or observations you think are worth noting?\n",
    "- Any observations regarding the testing process or environment? How would you improve or redesign this experiment?\n",
    "\n"
   ]
  },
  {
   "cell_type": "markdown",
   "id": "b51de980",
   "metadata": {},
   "source": [
    "## Explore the data"
   ]
  },
  {
   "cell_type": "code",
   "execution_count": 2,
   "id": "00ca150f",
   "metadata": {},
   "outputs": [],
   "source": [
    "# read csv\n",
    "df = pd.read_csv('response_data.csv')"
   ]
  },
  {
   "cell_type": "code",
   "execution_count": 3,
   "id": "534534df",
   "metadata": {
    "scrolled": true
   },
   "outputs": [
    {
     "data": {
      "text/html": [
       "<div>\n",
       "<style scoped>\n",
       "    .dataframe tbody tr th:only-of-type {\n",
       "        vertical-align: middle;\n",
       "    }\n",
       "\n",
       "    .dataframe tbody tr th {\n",
       "        vertical-align: top;\n",
       "    }\n",
       "\n",
       "    .dataframe thead th {\n",
       "        text-align: right;\n",
       "    }\n",
       "</style>\n",
       "<table border=\"1\" class=\"dataframe\">\n",
       "  <thead>\n",
       "    <tr style=\"text-align: right;\">\n",
       "      <th></th>\n",
       "      <th>Driver Response Timestamp</th>\n",
       "      <th>Order Create Timestamp</th>\n",
       "      <th>Order Id</th>\n",
       "    </tr>\n",
       "  </thead>\n",
       "  <tbody>\n",
       "    <tr>\n",
       "      <th>0</th>\n",
       "      <td>3/24/17 22:58:31</td>\n",
       "      <td>3/24/17 22:57:38</td>\n",
       "      <td>1</td>\n",
       "    </tr>\n",
       "    <tr>\n",
       "      <th>1</th>\n",
       "      <td>3/25/17 1:04:53</td>\n",
       "      <td>3/25/17 1:04:53</td>\n",
       "      <td>2</td>\n",
       "    </tr>\n",
       "    <tr>\n",
       "      <th>2</th>\n",
       "      <td>3/25/17 1:06:16</td>\n",
       "      <td>3/25/17 1:06:16</td>\n",
       "      <td>3</td>\n",
       "    </tr>\n",
       "    <tr>\n",
       "      <th>3</th>\n",
       "      <td>3/25/17 1:08:40</td>\n",
       "      <td>3/25/17 1:07:03</td>\n",
       "      <td>4</td>\n",
       "    </tr>\n",
       "    <tr>\n",
       "      <th>4</th>\n",
       "      <td>3/25/17 2:34:18</td>\n",
       "      <td>3/25/17 2:34:08</td>\n",
       "      <td>5</td>\n",
       "    </tr>\n",
       "  </tbody>\n",
       "</table>\n",
       "</div>"
      ],
      "text/plain": [
       "  Driver Response Timestamp Order Create Timestamp  Order Id\n",
       "0          3/24/17 22:58:31       3/24/17 22:57:38         1\n",
       "1           3/25/17 1:04:53        3/25/17 1:04:53         2\n",
       "2           3/25/17 1:06:16        3/25/17 1:06:16         3\n",
       "3           3/25/17 1:08:40        3/25/17 1:07:03         4\n",
       "4           3/25/17 2:34:18        3/25/17 2:34:08         5"
      ]
     },
     "execution_count": 3,
     "metadata": {},
     "output_type": "execute_result"
    }
   ],
   "source": [
    "df.head()"
   ]
  },
  {
   "cell_type": "code",
   "execution_count": 4,
   "id": "759479cd",
   "metadata": {},
   "outputs": [
    {
     "name": "stdout",
     "output_type": "stream",
     "text": [
      "<class 'pandas.core.frame.DataFrame'>\n",
      "RangeIndex: 5000 entries, 0 to 4999\n",
      "Data columns (total 3 columns):\n",
      " #   Column                     Non-Null Count  Dtype \n",
      "---  ------                     --------------  ----- \n",
      " 0   Driver Response Timestamp  5000 non-null   object\n",
      " 1   Order Create Timestamp     5000 non-null   object\n",
      " 2   Order Id                   5000 non-null   int64 \n",
      "dtypes: int64(1), object(2)\n",
      "memory usage: 117.3+ KB\n"
     ]
    }
   ],
   "source": [
    "df.info()"
   ]
  },
  {
   "cell_type": "code",
   "execution_count": 5,
   "id": "b26a3dc9",
   "metadata": {},
   "outputs": [],
   "source": [
    "# create column for the time difference between order create and driver response\n",
    "df['Driver Response Timestamp'] = pd.to_datetime(df['Driver Response Timestamp'])\n",
    "df['Order Create Timestamp'] = pd.to_datetime(df['Order Create Timestamp'])\n",
    "\n",
    "df['Order Match Time'] = df['Driver Response Timestamp'] - df['Order Create Timestamp']"
   ]
  },
  {
   "cell_type": "code",
   "execution_count": 7,
   "id": "44ad4710",
   "metadata": {},
   "outputs": [],
   "source": [
    "# Create a column to Change timedleta to seconds\n",
    "df['Order Match Seconds Difference'] = df['Order Match Time'].dt.total_seconds()"
   ]
  },
  {
   "cell_type": "code",
   "execution_count": 8,
   "id": "c6116be1",
   "metadata": {},
   "outputs": [],
   "source": [
    "# Create a column for the Order creation date\n",
    "df['Order Create Day'] = df['Order Create Timestamp'].dt.date"
   ]
  },
  {
   "cell_type": "code",
   "execution_count": 9,
   "id": "99cd6a57",
   "metadata": {},
   "outputs": [
    {
     "data": {
      "text/html": [
       "<div>\n",
       "<style scoped>\n",
       "    .dataframe tbody tr th:only-of-type {\n",
       "        vertical-align: middle;\n",
       "    }\n",
       "\n",
       "    .dataframe tbody tr th {\n",
       "        vertical-align: top;\n",
       "    }\n",
       "\n",
       "    .dataframe thead th {\n",
       "        text-align: right;\n",
       "    }\n",
       "</style>\n",
       "<table border=\"1\" class=\"dataframe\">\n",
       "  <thead>\n",
       "    <tr style=\"text-align: right;\">\n",
       "      <th></th>\n",
       "      <th>Driver Response Timestamp</th>\n",
       "      <th>Order Create Timestamp</th>\n",
       "      <th>Order Id</th>\n",
       "      <th>Order Match Time</th>\n",
       "      <th>Order Match Seconds Difference</th>\n",
       "      <th>Order Create Day</th>\n",
       "    </tr>\n",
       "  </thead>\n",
       "  <tbody>\n",
       "    <tr>\n",
       "      <th>0</th>\n",
       "      <td>2017-03-24 22:58:31</td>\n",
       "      <td>2017-03-24 22:57:38</td>\n",
       "      <td>1</td>\n",
       "      <td>0 days 00:00:53</td>\n",
       "      <td>53.0</td>\n",
       "      <td>2017-03-24</td>\n",
       "    </tr>\n",
       "    <tr>\n",
       "      <th>1</th>\n",
       "      <td>2017-03-25 01:04:53</td>\n",
       "      <td>2017-03-25 01:04:53</td>\n",
       "      <td>2</td>\n",
       "      <td>0 days 00:00:00</td>\n",
       "      <td>0.0</td>\n",
       "      <td>2017-03-25</td>\n",
       "    </tr>\n",
       "    <tr>\n",
       "      <th>2</th>\n",
       "      <td>2017-03-25 01:06:16</td>\n",
       "      <td>2017-03-25 01:06:16</td>\n",
       "      <td>3</td>\n",
       "      <td>0 days 00:00:00</td>\n",
       "      <td>0.0</td>\n",
       "      <td>2017-03-25</td>\n",
       "    </tr>\n",
       "    <tr>\n",
       "      <th>3</th>\n",
       "      <td>2017-03-25 01:08:40</td>\n",
       "      <td>2017-03-25 01:07:03</td>\n",
       "      <td>4</td>\n",
       "      <td>0 days 00:01:37</td>\n",
       "      <td>97.0</td>\n",
       "      <td>2017-03-25</td>\n",
       "    </tr>\n",
       "    <tr>\n",
       "      <th>4</th>\n",
       "      <td>2017-03-25 02:34:18</td>\n",
       "      <td>2017-03-25 02:34:08</td>\n",
       "      <td>5</td>\n",
       "      <td>0 days 00:00:10</td>\n",
       "      <td>10.0</td>\n",
       "      <td>2017-03-25</td>\n",
       "    </tr>\n",
       "  </tbody>\n",
       "</table>\n",
       "</div>"
      ],
      "text/plain": [
       "  Driver Response Timestamp Order Create Timestamp  Order Id Order Match Time  \\\n",
       "0       2017-03-24 22:58:31    2017-03-24 22:57:38         1  0 days 00:00:53   \n",
       "1       2017-03-25 01:04:53    2017-03-25 01:04:53         2  0 days 00:00:00   \n",
       "2       2017-03-25 01:06:16    2017-03-25 01:06:16         3  0 days 00:00:00   \n",
       "3       2017-03-25 01:08:40    2017-03-25 01:07:03         4  0 days 00:01:37   \n",
       "4       2017-03-25 02:34:18    2017-03-25 02:34:08         5  0 days 00:00:10   \n",
       "\n",
       "   Order Match Seconds Difference Order Create Day  \n",
       "0                            53.0       2017-03-24  \n",
       "1                             0.0       2017-03-25  \n",
       "2                             0.0       2017-03-25  \n",
       "3                            97.0       2017-03-25  \n",
       "4                            10.0       2017-03-25  "
      ]
     },
     "execution_count": 9,
     "metadata": {},
     "output_type": "execute_result"
    }
   ],
   "source": [
    "df.head()"
   ]
  },
  {
   "cell_type": "code",
   "execution_count": 10,
   "id": "cc00ea13",
   "metadata": {},
   "outputs": [],
   "source": [
    "# Calculate the average Order matching second each day using group by function\n",
    "df1 = df.groupby(['Order Create Day'])['Order Match Seconds Difference'].mean()"
   ]
  },
  {
   "cell_type": "code",
   "execution_count": 11,
   "id": "3e940d03",
   "metadata": {},
   "outputs": [
    {
     "data": {
      "text/html": [
       "<div>\n",
       "<style scoped>\n",
       "    .dataframe tbody tr th:only-of-type {\n",
       "        vertical-align: middle;\n",
       "    }\n",
       "\n",
       "    .dataframe tbody tr th {\n",
       "        vertical-align: top;\n",
       "    }\n",
       "\n",
       "    .dataframe thead th {\n",
       "        text-align: right;\n",
       "    }\n",
       "</style>\n",
       "<table border=\"1\" class=\"dataframe\">\n",
       "  <thead>\n",
       "    <tr style=\"text-align: right;\">\n",
       "      <th></th>\n",
       "      <th>Date</th>\n",
       "      <th>Average Order Matching Seconds</th>\n",
       "    </tr>\n",
       "  </thead>\n",
       "  <tbody>\n",
       "    <tr>\n",
       "      <th>0</th>\n",
       "      <td>2017-03-24</td>\n",
       "      <td>53.000000</td>\n",
       "    </tr>\n",
       "    <tr>\n",
       "      <th>1</th>\n",
       "      <td>2017-03-25</td>\n",
       "      <td>55.877095</td>\n",
       "    </tr>\n",
       "    <tr>\n",
       "      <th>2</th>\n",
       "      <td>2017-03-26</td>\n",
       "      <td>33.602349</td>\n",
       "    </tr>\n",
       "    <tr>\n",
       "      <th>3</th>\n",
       "      <td>2017-03-27</td>\n",
       "      <td>50.013605</td>\n",
       "    </tr>\n",
       "    <tr>\n",
       "      <th>4</th>\n",
       "      <td>2017-03-28</td>\n",
       "      <td>52.187500</td>\n",
       "    </tr>\n",
       "    <tr>\n",
       "      <th>5</th>\n",
       "      <td>2017-03-29</td>\n",
       "      <td>52.904918</td>\n",
       "    </tr>\n",
       "    <tr>\n",
       "      <th>6</th>\n",
       "      <td>2017-03-30</td>\n",
       "      <td>53.400631</td>\n",
       "    </tr>\n",
       "    <tr>\n",
       "      <th>7</th>\n",
       "      <td>2017-03-31</td>\n",
       "      <td>53.045564</td>\n",
       "    </tr>\n",
       "    <tr>\n",
       "      <th>8</th>\n",
       "      <td>2017-04-01</td>\n",
       "      <td>94.528958</td>\n",
       "    </tr>\n",
       "    <tr>\n",
       "      <th>9</th>\n",
       "      <td>2017-04-02</td>\n",
       "      <td>34.213462</td>\n",
       "    </tr>\n",
       "    <tr>\n",
       "      <th>10</th>\n",
       "      <td>2017-04-03</td>\n",
       "      <td>38.250000</td>\n",
       "    </tr>\n",
       "  </tbody>\n",
       "</table>\n",
       "</div>"
      ],
      "text/plain": [
       "          Date  Average Order Matching Seconds\n",
       "0   2017-03-24                       53.000000\n",
       "1   2017-03-25                       55.877095\n",
       "2   2017-03-26                       33.602349\n",
       "3   2017-03-27                       50.013605\n",
       "4   2017-03-28                       52.187500\n",
       "5   2017-03-29                       52.904918\n",
       "6   2017-03-30                       53.400631\n",
       "7   2017-03-31                       53.045564\n",
       "8   2017-04-01                       94.528958\n",
       "9   2017-04-02                       34.213462\n",
       "10  2017-04-03                       38.250000"
      ]
     },
     "execution_count": 11,
     "metadata": {},
     "output_type": "execute_result"
    }
   ],
   "source": [
    "# Convert series into Dataframe\n",
    "df1 = pd.DataFrame({'Date':df1.index, 'Average Order Matching Seconds':df1.values})\n",
    "df1"
   ]
  },
  {
   "cell_type": "markdown",
   "id": "6e01357c",
   "metadata": {},
   "source": [
    "***"
   ]
  },
  {
   "cell_type": "markdown",
   "id": "648a88e7",
   "metadata": {},
   "source": [
    "We may look at the data with Statisical test.\n",
    "####  Assume that the duration after the introduction of change is significantly different from before\n",
    "- H0 : |After - Before| = 0\n",
    "- H1 : |After - Before| > 0"
   ]
  },
  {
   "cell_type": "code",
   "execution_count": 12,
   "id": "256b4a20",
   "metadata": {},
   "outputs": [],
   "source": [
    "# Create two dataset: Before and After \n",
    "Before = df1[df1['Date'] < pd.Timestamp('2017-03-30')]\n",
    "After = df1[df1['Date'] >= pd.Timestamp('2017-03-30')]"
   ]
  },
  {
   "cell_type": "code",
   "execution_count": 13,
   "id": "8ec4365e",
   "metadata": {},
   "outputs": [
    {
     "data": {
      "text/html": [
       "<div>\n",
       "<style scoped>\n",
       "    .dataframe tbody tr th:only-of-type {\n",
       "        vertical-align: middle;\n",
       "    }\n",
       "\n",
       "    .dataframe tbody tr th {\n",
       "        vertical-align: top;\n",
       "    }\n",
       "\n",
       "    .dataframe thead th {\n",
       "        text-align: right;\n",
       "    }\n",
       "</style>\n",
       "<table border=\"1\" class=\"dataframe\">\n",
       "  <thead>\n",
       "    <tr style=\"text-align: right;\">\n",
       "      <th></th>\n",
       "      <th>Date</th>\n",
       "      <th>Average Order Matching Seconds</th>\n",
       "    </tr>\n",
       "  </thead>\n",
       "  <tbody>\n",
       "    <tr>\n",
       "      <th>0</th>\n",
       "      <td>2017-03-24</td>\n",
       "      <td>53.000000</td>\n",
       "    </tr>\n",
       "    <tr>\n",
       "      <th>1</th>\n",
       "      <td>2017-03-25</td>\n",
       "      <td>55.877095</td>\n",
       "    </tr>\n",
       "    <tr>\n",
       "      <th>2</th>\n",
       "      <td>2017-03-26</td>\n",
       "      <td>33.602349</td>\n",
       "    </tr>\n",
       "    <tr>\n",
       "      <th>3</th>\n",
       "      <td>2017-03-27</td>\n",
       "      <td>50.013605</td>\n",
       "    </tr>\n",
       "    <tr>\n",
       "      <th>4</th>\n",
       "      <td>2017-03-28</td>\n",
       "      <td>52.187500</td>\n",
       "    </tr>\n",
       "    <tr>\n",
       "      <th>5</th>\n",
       "      <td>2017-03-29</td>\n",
       "      <td>52.904918</td>\n",
       "    </tr>\n",
       "  </tbody>\n",
       "</table>\n",
       "</div>"
      ],
      "text/plain": [
       "         Date  Average Order Matching Seconds\n",
       "0  2017-03-24                       53.000000\n",
       "1  2017-03-25                       55.877095\n",
       "2  2017-03-26                       33.602349\n",
       "3  2017-03-27                       50.013605\n",
       "4  2017-03-28                       52.187500\n",
       "5  2017-03-29                       52.904918"
      ]
     },
     "execution_count": 13,
     "metadata": {},
     "output_type": "execute_result"
    }
   ],
   "source": [
    "Before"
   ]
  },
  {
   "cell_type": "code",
   "execution_count": 14,
   "id": "0f3ea224",
   "metadata": {},
   "outputs": [
    {
     "data": {
      "text/html": [
       "<div>\n",
       "<style scoped>\n",
       "    .dataframe tbody tr th:only-of-type {\n",
       "        vertical-align: middle;\n",
       "    }\n",
       "\n",
       "    .dataframe tbody tr th {\n",
       "        vertical-align: top;\n",
       "    }\n",
       "\n",
       "    .dataframe thead th {\n",
       "        text-align: right;\n",
       "    }\n",
       "</style>\n",
       "<table border=\"1\" class=\"dataframe\">\n",
       "  <thead>\n",
       "    <tr style=\"text-align: right;\">\n",
       "      <th></th>\n",
       "      <th>Date</th>\n",
       "      <th>Average Order Matching Seconds</th>\n",
       "    </tr>\n",
       "  </thead>\n",
       "  <tbody>\n",
       "    <tr>\n",
       "      <th>6</th>\n",
       "      <td>2017-03-30</td>\n",
       "      <td>53.400631</td>\n",
       "    </tr>\n",
       "    <tr>\n",
       "      <th>7</th>\n",
       "      <td>2017-03-31</td>\n",
       "      <td>53.045564</td>\n",
       "    </tr>\n",
       "    <tr>\n",
       "      <th>8</th>\n",
       "      <td>2017-04-01</td>\n",
       "      <td>94.528958</td>\n",
       "    </tr>\n",
       "    <tr>\n",
       "      <th>9</th>\n",
       "      <td>2017-04-02</td>\n",
       "      <td>34.213462</td>\n",
       "    </tr>\n",
       "    <tr>\n",
       "      <th>10</th>\n",
       "      <td>2017-04-03</td>\n",
       "      <td>38.250000</td>\n",
       "    </tr>\n",
       "  </tbody>\n",
       "</table>\n",
       "</div>"
      ],
      "text/plain": [
       "          Date  Average Order Matching Seconds\n",
       "6   2017-03-30                       53.400631\n",
       "7   2017-03-31                       53.045564\n",
       "8   2017-04-01                       94.528958\n",
       "9   2017-04-02                       34.213462\n",
       "10  2017-04-03                       38.250000"
      ]
     },
     "execution_count": 14,
     "metadata": {},
     "output_type": "execute_result"
    }
   ],
   "source": [
    "After"
   ]
  },
  {
   "cell_type": "code",
   "execution_count": 15,
   "id": "4605ceaf",
   "metadata": {
    "scrolled": true
   },
   "outputs": [
    {
     "data": {
      "text/html": [
       "<div>\n",
       "<style scoped>\n",
       "    .dataframe tbody tr th:only-of-type {\n",
       "        vertical-align: middle;\n",
       "    }\n",
       "\n",
       "    .dataframe tbody tr th {\n",
       "        vertical-align: top;\n",
       "    }\n",
       "\n",
       "    .dataframe thead th {\n",
       "        text-align: right;\n",
       "    }\n",
       "</style>\n",
       "<table border=\"1\" class=\"dataframe\">\n",
       "  <thead>\n",
       "    <tr style=\"text-align: right;\">\n",
       "      <th></th>\n",
       "      <th>Stat</th>\n",
       "      <th>Before</th>\n",
       "      <th>After</th>\n",
       "    </tr>\n",
       "  </thead>\n",
       "  <tbody>\n",
       "    <tr>\n",
       "      <th>0</th>\n",
       "      <td>count</td>\n",
       "      <td>6.000000</td>\n",
       "      <td>5.000000</td>\n",
       "    </tr>\n",
       "    <tr>\n",
       "      <th>1</th>\n",
       "      <td>mean</td>\n",
       "      <td>49.597578</td>\n",
       "      <td>54.687723</td>\n",
       "    </tr>\n",
       "    <tr>\n",
       "      <th>2</th>\n",
       "      <td>std</td>\n",
       "      <td>8.058231</td>\n",
       "      <td>23.880282</td>\n",
       "    </tr>\n",
       "  </tbody>\n",
       "</table>\n",
       "</div>"
      ],
      "text/plain": [
       "    Stat     Before      After\n",
       "0  count   6.000000   5.000000\n",
       "1   mean  49.597578  54.687723\n",
       "2    std   8.058231  23.880282"
      ]
     },
     "execution_count": 15,
     "metadata": {},
     "output_type": "execute_result"
    }
   ],
   "source": [
    "# Before Stat\n",
    "Before_stat = Before['Average Order Matching Seconds'].describe()\n",
    "Before = pd.DataFrame({'Stat':Before_stat.index, 'Before':Before_stat.values})\n",
    "\n",
    "# After Stat\n",
    "After_stat = After['Average Order Matching Seconds'].describe()\n",
    "After = pd.DataFrame({'Stat':After_stat.index, 'After':After_stat.values})\n",
    "\n",
    "# Join tables and drop rows that are unrelevant\n",
    "drop_rows = [3,4,5,6,7]\n",
    "stat = pd.merge(Before,After, on='Stat')\n",
    "stat.drop(drop_rows, inplace=True)\n",
    "stat"
   ]
  },
  {
   "cell_type": "code",
   "execution_count": 31,
   "id": "a8ab9422",
   "metadata": {},
   "outputs": [
    {
     "data": {
      "text/plain": [
       "0.45550222436075727"
      ]
     },
     "execution_count": 31,
     "metadata": {},
     "output_type": "execute_result"
    }
   ],
   "source": [
    "# Calculate z-score\n",
    "Before_count = stat.iloc[0]['Before'].astype(int)\n",
    "Before_mean = stat.iloc[1]['Before']\n",
    "Before_std = stat.iloc[2]['Before']\n",
    "\n",
    "After_count = stat.iloc[0]['After'].astype(int)\n",
    "After_mean = stat.iloc[1]['After']\n",
    "After_std = stat.iloc[2]['After']\n",
    "\n",
    "z_score = (After_mean - Before_mean)/ math.sqrt((After_std**2)/After_count + (Before_std**2)/Before_count)\n",
    "z_score"
   ]
  },
  {
   "cell_type": "code",
   "execution_count": 32,
   "id": "1d30bee4",
   "metadata": {},
   "outputs": [
    {
     "data": {
      "text/plain": [
       "0.3243739838392138"
      ]
     },
     "execution_count": 32,
     "metadata": {},
     "output_type": "execute_result"
    }
   ],
   "source": [
    "import scipy.stats\n",
    "\n",
    "# find p-value\n",
    "scipy.stats.norm.sf(abs(z_score))"
   ]
  },
  {
   "cell_type": "markdown",
   "id": "7df4fb48",
   "metadata": {},
   "source": [
    "### The p-value shows the result is not siginificant\n",
    "Thereore, the duration after the introduction of change is not significantly different to the duration before the introduction of change"
   ]
  },
  {
   "cell_type": "code",
   "execution_count": 44,
   "id": "f3950269",
   "metadata": {
    "scrolled": true
   },
   "outputs": [
    {
     "data": {
      "image/png": "[encoded data removed]",
      "text/plain": [
       "<Figure size 864x288 with 1 Axes>"
      ]
     },
     "metadata": {
      "needs_background": "light"
     },
     "output_type": "display_data"
    }
   ],
   "source": [
    "# visualize\n",
    "plt.figure(figsize=(12,4))\n",
    "plt.plot(df1['Date'],df1['Average Order Matching Seconds'])\n",
    "\n",
    "plt.title('Average Order Matching Time', fontsize=20)\n",
    "plt.xlabel('Date')\n",
    "plt.ylabel('seconds')\n",
    "plt.xticks(df1['Date'], rotation=90)\n",
    "plt.axvline(pd.Timestamp('2017-03-30') , color='r', linestyle='--')\n",
    "\n",
    "plt.show()"
   ]
  },
  {
   "cell_type": "markdown",
   "id": "d7b66717",
   "metadata": {},
   "source": [
    "Even though the pvalue shows that the average duration before and after the change was introduced was not significant. However, we can see that the duration increases dramtically on the third day after the change was introduced, and decreases dramtically on the forth day. "
   ]
  },
  {
   "cell_type": "markdown",
   "id": "31f699c3",
   "metadata": {},
   "source": [
    "# Conclusion\n",
    "- Average of the duration since the time an order was created to the time the order was accepted by a driver has increased by 10 seconds\n",
    "- Variation in the duration has greatly increased after the change was introduced \n",
    "- Durations on the forth and fifth day are lower than the average duration before\n",
    "- More observations days were needed"
   ]
  }
 ],
 "metadata": {
  "kernelspec": {
   "display_name": "Python 3",
   "language": "python",
   "name": "python3"
  },
  "language_info": {
   "codemirror_mode": {
    "name": "ipython",
    "version": 3
   },
   "file_extension": ".py",
   "mimetype": "text/x-python",
   "name": "python",
   "nbconvert_exporter": "python",
   "pygments_lexer": "ipython3",
   "version": "3.8.8"
  }
 },
 "nbformat": 4,
 "nbformat_minor": 5
}
